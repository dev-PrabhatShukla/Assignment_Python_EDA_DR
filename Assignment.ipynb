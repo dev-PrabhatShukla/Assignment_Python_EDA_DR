{
 "cells": [
  {
   "cell_type": "code",
   "execution_count": 112,
   "id": "f2349969-afa2-4035-ac94-3c4673b33b9b",
   "metadata": {},
   "outputs": [],
   "source": [
    "#importing pandas\n",
    "import pandas as pd"
   ]
  },
  {
   "cell_type": "code",
   "execution_count": 113,
   "id": "3556af45-105c-4c29-939a-aba9062628a9",
   "metadata": {},
   "outputs": [],
   "source": [
    "# Load data into a DataFrame\n",
    "df = pd.read_excel('C:/Users/PrabhatShukla/Downloads/Sample-Superstore.xlsx', engine='openpyxl')"
   ]
  },
  {
   "cell_type": "code",
   "execution_count": 114,
   "id": "b7278515-3549-4ab2-864f-563430c8e2de",
   "metadata": {},
   "outputs": [
    {
     "data": {
      "text/html": [
       "<div>\n",
       "<style scoped>\n",
       "    .dataframe tbody tr th:only-of-type {\n",
       "        vertical-align: middle;\n",
       "    }\n",
       "\n",
       "    .dataframe tbody tr th {\n",
       "        vertical-align: top;\n",
       "    }\n",
       "\n",
       "    .dataframe thead th {\n",
       "        text-align: right;\n",
       "    }\n",
       "</style>\n",
       "<table border=\"1\" class=\"dataframe\">\n",
       "  <thead>\n",
       "    <tr style=\"text-align: right;\">\n",
       "      <th></th>\n",
       "      <th>Row ID</th>\n",
       "      <th>Order ID</th>\n",
       "      <th>Order Date</th>\n",
       "      <th>Ship Date</th>\n",
       "      <th>Ship Mode</th>\n",
       "      <th>Customer ID</th>\n",
       "      <th>Customer Name</th>\n",
       "      <th>Segment</th>\n",
       "      <th>Country/Region</th>\n",
       "      <th>City</th>\n",
       "      <th>...</th>\n",
       "      <th>Postal Code</th>\n",
       "      <th>Region</th>\n",
       "      <th>Product ID</th>\n",
       "      <th>Category</th>\n",
       "      <th>Sub-Category</th>\n",
       "      <th>Product Name</th>\n",
       "      <th>Sales</th>\n",
       "      <th>Quantity</th>\n",
       "      <th>Discount</th>\n",
       "      <th>Profit</th>\n",
       "    </tr>\n",
       "  </thead>\n",
       "  <tbody>\n",
       "    <tr>\n",
       "      <th>0</th>\n",
       "      <td>1</td>\n",
       "      <td>US-2021-103800</td>\n",
       "      <td>2021-01-03</td>\n",
       "      <td>2021-01-07</td>\n",
       "      <td>Standard Class</td>\n",
       "      <td>DP-13000</td>\n",
       "      <td>Darren Powers</td>\n",
       "      <td>Consumer</td>\n",
       "      <td>United States</td>\n",
       "      <td>Houston</td>\n",
       "      <td>...</td>\n",
       "      <td>77095</td>\n",
       "      <td>Central</td>\n",
       "      <td>OFF-PA-10000174</td>\n",
       "      <td>Office Supplies</td>\n",
       "      <td>Paper</td>\n",
       "      <td>Message Book, Wirebound, Four 5 1/2\" X 4\" Form...</td>\n",
       "      <td>16.448</td>\n",
       "      <td>2</td>\n",
       "      <td>0.2</td>\n",
       "      <td>5.5512</td>\n",
       "    </tr>\n",
       "    <tr>\n",
       "      <th>1</th>\n",
       "      <td>2</td>\n",
       "      <td>US-2021-112326</td>\n",
       "      <td>2021-01-04</td>\n",
       "      <td>2021-01-08</td>\n",
       "      <td>Standard Class</td>\n",
       "      <td>PO-19195</td>\n",
       "      <td>Phillina Ober</td>\n",
       "      <td>Home Office</td>\n",
       "      <td>United States</td>\n",
       "      <td>Naperville</td>\n",
       "      <td>...</td>\n",
       "      <td>60540</td>\n",
       "      <td>Central</td>\n",
       "      <td>OFF-BI-10004094</td>\n",
       "      <td>Office Supplies</td>\n",
       "      <td>Binders</td>\n",
       "      <td>GBC Standard Plastic Binding Systems Combs</td>\n",
       "      <td>3.540</td>\n",
       "      <td>2</td>\n",
       "      <td>0.8</td>\n",
       "      <td>-5.4870</td>\n",
       "    </tr>\n",
       "    <tr>\n",
       "      <th>2</th>\n",
       "      <td>3</td>\n",
       "      <td>US-2021-112326</td>\n",
       "      <td>2021-01-04</td>\n",
       "      <td>2021-01-08</td>\n",
       "      <td>Standard Class</td>\n",
       "      <td>PO-19195</td>\n",
       "      <td>Phillina Ober</td>\n",
       "      <td>Home Office</td>\n",
       "      <td>United States</td>\n",
       "      <td>Naperville</td>\n",
       "      <td>...</td>\n",
       "      <td>60540</td>\n",
       "      <td>Central</td>\n",
       "      <td>OFF-LA-10003223</td>\n",
       "      <td>Office Supplies</td>\n",
       "      <td>Labels</td>\n",
       "      <td>Avery 508</td>\n",
       "      <td>11.784</td>\n",
       "      <td>3</td>\n",
       "      <td>0.2</td>\n",
       "      <td>4.2717</td>\n",
       "    </tr>\n",
       "    <tr>\n",
       "      <th>3</th>\n",
       "      <td>4</td>\n",
       "      <td>US-2021-112326</td>\n",
       "      <td>2021-01-04</td>\n",
       "      <td>2021-01-08</td>\n",
       "      <td>Standard Class</td>\n",
       "      <td>PO-19195</td>\n",
       "      <td>Phillina Ober</td>\n",
       "      <td>Home Office</td>\n",
       "      <td>United States</td>\n",
       "      <td>Naperville</td>\n",
       "      <td>...</td>\n",
       "      <td>60540</td>\n",
       "      <td>Central</td>\n",
       "      <td>OFF-ST-10002743</td>\n",
       "      <td>Office Supplies</td>\n",
       "      <td>Storage</td>\n",
       "      <td>SAFCO Boltless Steel Shelving</td>\n",
       "      <td>272.736</td>\n",
       "      <td>3</td>\n",
       "      <td>0.2</td>\n",
       "      <td>-64.7748</td>\n",
       "    </tr>\n",
       "    <tr>\n",
       "      <th>4</th>\n",
       "      <td>5</td>\n",
       "      <td>US-2021-141817</td>\n",
       "      <td>2021-01-05</td>\n",
       "      <td>2021-01-12</td>\n",
       "      <td>Standard Class</td>\n",
       "      <td>MB-18085</td>\n",
       "      <td>Mick Brown</td>\n",
       "      <td>Consumer</td>\n",
       "      <td>United States</td>\n",
       "      <td>Philadelphia</td>\n",
       "      <td>...</td>\n",
       "      <td>19143</td>\n",
       "      <td>East</td>\n",
       "      <td>OFF-AR-10003478</td>\n",
       "      <td>Office Supplies</td>\n",
       "      <td>Art</td>\n",
       "      <td>Avery Hi-Liter EverBold Pen Style Fluorescent ...</td>\n",
       "      <td>19.536</td>\n",
       "      <td>3</td>\n",
       "      <td>0.2</td>\n",
       "      <td>4.8840</td>\n",
       "    </tr>\n",
       "  </tbody>\n",
       "</table>\n",
       "<p>5 rows × 21 columns</p>\n",
       "</div>"
      ],
      "text/plain": [
       "   Row ID        Order ID Order Date  Ship Date       Ship Mode Customer ID  \\\n",
       "0       1  US-2021-103800 2021-01-03 2021-01-07  Standard Class    DP-13000   \n",
       "1       2  US-2021-112326 2021-01-04 2021-01-08  Standard Class    PO-19195   \n",
       "2       3  US-2021-112326 2021-01-04 2021-01-08  Standard Class    PO-19195   \n",
       "3       4  US-2021-112326 2021-01-04 2021-01-08  Standard Class    PO-19195   \n",
       "4       5  US-2021-141817 2021-01-05 2021-01-12  Standard Class    MB-18085   \n",
       "\n",
       "   Customer Name      Segment Country/Region          City  ... Postal Code  \\\n",
       "0  Darren Powers     Consumer  United States       Houston  ...       77095   \n",
       "1  Phillina Ober  Home Office  United States    Naperville  ...       60540   \n",
       "2  Phillina Ober  Home Office  United States    Naperville  ...       60540   \n",
       "3  Phillina Ober  Home Office  United States    Naperville  ...       60540   \n",
       "4     Mick Brown     Consumer  United States  Philadelphia  ...       19143   \n",
       "\n",
       "    Region       Product ID         Category Sub-Category  \\\n",
       "0  Central  OFF-PA-10000174  Office Supplies        Paper   \n",
       "1  Central  OFF-BI-10004094  Office Supplies      Binders   \n",
       "2  Central  OFF-LA-10003223  Office Supplies       Labels   \n",
       "3  Central  OFF-ST-10002743  Office Supplies      Storage   \n",
       "4     East  OFF-AR-10003478  Office Supplies          Art   \n",
       "\n",
       "                                        Product Name    Sales  Quantity  \\\n",
       "0  Message Book, Wirebound, Four 5 1/2\" X 4\" Form...   16.448         2   \n",
       "1         GBC Standard Plastic Binding Systems Combs    3.540         2   \n",
       "2                                          Avery 508   11.784         3   \n",
       "3                      SAFCO Boltless Steel Shelving  272.736         3   \n",
       "4  Avery Hi-Liter EverBold Pen Style Fluorescent ...   19.536         3   \n",
       "\n",
       "   Discount   Profit  \n",
       "0       0.2   5.5512  \n",
       "1       0.8  -5.4870  \n",
       "2       0.2   4.2717  \n",
       "3       0.2 -64.7748  \n",
       "4       0.2   4.8840  \n",
       "\n",
       "[5 rows x 21 columns]"
      ]
     },
     "execution_count": 114,
     "metadata": {},
     "output_type": "execute_result"
    }
   ],
   "source": [
    "df.head()"
   ]
  },
  {
   "cell_type": "markdown",
   "id": "1381bee0-fa14-475e-9c37-cc2e1925c4f9",
   "metadata": {},
   "source": [
    "### Ist Query Part 1: For each Category display the Product Name which has second Highest Sale?"
   ]
  },
  {
   "cell_type": "code",
   "execution_count": 116,
   "id": "4848c38a-ebbf-4071-b4e6-c590c86623ed",
   "metadata": {},
   "outputs": [
    {
     "name": "stdout",
     "output_type": "stream",
     "text": [
      "             Category                                       Product Name  \\\n",
      "3584        Furniture  Riverside Palais Royal Lawyers Bookcase, Royal...   \n",
      "1203  Office Supplies               Ibico EPK-21 Electric Binding System   \n",
      "5894       Technology              Canon imageCLASS 2200 Advanced Copier   \n",
      "\n",
      "         Sales  \n",
      "3584   4404.90  \n",
      "1203   9449.95  \n",
      "5894  17499.95  \n"
     ]
    }
   ],
   "source": [
    "# Group by 'Category' and then sort within each group by 'Sales' (basically sorting in the decending order)\n",
    "df_sorted = df.sort_values(by=['Category', 'Sales'], ascending=[True, False])\n",
    "\n",
    "# Add a rank column within each Category group\n",
    "df_sorted['rank'] = df_sorted.groupby('Category')['Sales'].rank(method='first', ascending=False)\n",
    "\n",
    "# Find the product whose rank is 2 category-wise by filtering that:\n",
    "second_highest_sales = df_sorted[df_sorted['rank'] == 2]\n",
    "\n",
    "# Displaying the final result\n",
    "result = second_highest_sales[['Category', 'Product Name', 'Sales']]\n",
    "print(result)"
   ]
  },
  {
   "cell_type": "markdown",
   "id": "920fe71a-3721-43e6-b7de-d89bbe7a9124",
   "metadata": {},
   "source": [
    "### Ist Query Part 2: For each Sub-Category display the Product Name which has second Highest Sale?"
   ]
  },
  {
   "cell_type": "code",
   "execution_count": 118,
   "id": "babb15c1-b257-408b-8484-d4f33baf7d16",
   "metadata": {},
   "outputs": [
    {
     "name": "stdout",
     "output_type": "stream",
     "text": [
      "     Sub-Category                                       Product Name  \\\n",
      "2906  Accessories  Plantronics CS510 - Over-the-Head monaural Wir...   \n",
      "8350   Appliances  Sanyo 2.5 Cubic Foot Mid-Size Office Refrigera...   \n",
      "7964          Art  Boston Heavy-Duty Trimline Electric Pencil Sha...   \n",
      "1203      Binders               Ibico EPK-21 Electric Binding System   \n",
      "3204    Bookcases  Riverside Palais Royal Lawyers Bookcase, Royal...   \n",
      "1085       Chairs       HON 5400 Series Task Chairs for Big and Tall   \n",
      "7255      Copiers              Canon imageCLASS 2200 Advanced Copier   \n",
      "5266    Envelopes  Ames Color-File Green Diamond Border X-ray Mai...   \n",
      "5915    Fasteners          Alliance Super-Size Bands, Assorted Sizes   \n",
      "2391  Furnishings               Tenex Antistatic Computer Chair Mats   \n",
      "6119       Labels  Dot Matrix Printer Tape Reel Labels, White, 50...   \n",
      "4624     Machines   3D Systems Cube Printer, 2nd Generation, Magenta   \n",
      "1654        Paper                 Multicolor Computer Printout Paper   \n",
      "8422       Phones                            Samsung Galaxy Mega 6.3   \n",
      "7369      Storage      Tennsco 16-Compartment Lockers with Coat Rack   \n",
      "4446     Supplies        High Speed Automatic Electric Letter Opener   \n",
      "1849       Tables         Bretford Rectangular Conference Table Tops   \n",
      "\n",
      "          Sales  \n",
      "2906   2309.650  \n",
      "8350   2518.290  \n",
      "7964    385.600  \n",
      "1203   9449.950  \n",
      "3204   4228.704  \n",
      "1085   3785.292  \n",
      "7255  13999.960  \n",
      "5266    419.900  \n",
      "5915     93.360  \n",
      "2391   1196.860  \n",
      "6119    629.184  \n",
      "4624   9099.930  \n",
      "1654    629.100  \n",
      "8422   4367.896  \n",
      "7369   2591.560  \n",
      "4446   4912.590  \n",
      "1849   3610.848  \n"
     ]
    }
   ],
   "source": [
    "# Group by 'Sub-Category' and then sort within each group by 'Sales' (basically sorting in the decending order)\n",
    "df_sorted = df.sort_values(by=['Sub-Category', 'Sales'], ascending=[True, False])\n",
    "\n",
    "# Add a rank column within each Sub-Category group\n",
    "df_sorted['rank'] = df_sorted.groupby('Sub-Category')['Sales'].rank(method='first', ascending=False)\n",
    "\n",
    "# Find the product whose rank is 2 sub-category-wise by filtering that:\n",
    "second_highest_sales = df_sorted[df_sorted['rank'] == 2]\n",
    "\n",
    "# Displaying the final result\n",
    "result = second_highest_sales[['Sub-Category', 'Product Name', 'Sales']]\n",
    "print(result)"
   ]
  },
  {
   "cell_type": "markdown",
   "id": "0b330193-27e2-4eee-ba59-48f86f04248d",
   "metadata": {},
   "source": [
    "### II Query Part 1: For each Category find all the other product names except the product which has second highest sale."
   ]
  },
  {
   "cell_type": "code",
   "execution_count": 120,
   "id": "eb89dd4f-431c-4924-a6bc-8e57b25f8c8f",
   "metadata": {},
   "outputs": [
    {
     "name": "stdout",
     "output_type": "stream",
     "text": [
      "        Category                                       Product Name     Sales\n",
      "8347   Furniture       HON 5400 Series Task Chairs for Big and Tall  4416.174\n",
      "2108   Furniture  Chromcraft Bull-Nose Wood Oval Conference Tabl...  4297.644\n",
      "3204   Furniture  Riverside Palais Royal Lawyers Bookcase, Royal...  4228.704\n",
      "1600   Furniture              DMI Eclipse Executive Suite Bookcases  4007.840\n",
      "1085   Furniture       HON 5400 Series Task Chairs for Big and Tall  3785.292\n",
      "...          ...                                                ...       ...\n",
      "3460  Technology             RCA Visys Integrated PBX 8-Line Router     2.210\n",
      "1413  Technology                          Maxell 4.7GB DVD+R 5/Pack     1.980\n",
      "5456  Technology                          Maxell 4.7GB DVD+R 5/Pack     1.980\n",
      "8337  Technology                          Maxell 4.7GB DVD-R 5/Pack     1.584\n",
      "9071  Technology                          Maxell 4.7GB DVD-R 5/Pack     0.990\n",
      "\n",
      "[10191 rows x 3 columns]\n"
     ]
    }
   ],
   "source": [
    "# Group by 'Category' and then sort within each group by 'Sales' (basically sorting in the decending order)\n",
    "df_sorted = df.sort_values(by=['Category', 'Sales'], ascending=[True, False])\n",
    "\n",
    "# Add a rank column within each Category group\n",
    "df_sorted['rank'] = df_sorted.groupby('Category')['Sales'].rank(method='first', ascending=False)\n",
    "\n",
    "# Find the product whose rank is 2 category-wise by filtering that and then remove that particular product row:\n",
    "filtered_df = df_sorted[df_sorted['rank'] != 2]\n",
    "\n",
    "# Displaying the final result\n",
    "result = filtered_df[['Category', 'Product Name', 'Sales']]\n",
    "print(result)"
   ]
  },
  {
   "cell_type": "markdown",
   "id": "0e68c4c8-7331-41a7-a390-4d2db0cbfb80",
   "metadata": {},
   "source": [
    "### II Query Part 2: : For each Sub-Category find all the other product names except the product which has second highest sale."
   ]
  },
  {
   "cell_type": "code",
   "execution_count": 122,
   "id": "f927eedf-1903-4543-ae00-5199db030d2d",
   "metadata": {},
   "outputs": [
    {
     "name": "stdout",
     "output_type": "stream",
     "text": [
      "     Sub-Category                                       Product Name     Sales\n",
      "5685  Accessories                 Logitech P710e Mobile Speakerphone  3347.370\n",
      "4070  Accessories                      Logitech diNovo Edge Keyboard  2249.910\n",
      "9279  Accessories                      Logitech diNovo Edge Keyboard  2249.910\n",
      "4035  Accessories  Plantronics Savi W720 Multi-Device Wireless He...  2025.360\n",
      "4915  Accessories  Plantronics CS510 - Over-the-Head monaural Wir...  1979.700\n",
      "...           ...                                                ...       ...\n",
      "6755       Tables                               KI Conference Tables    35.445\n",
      "3119       Tables     Anderson Hickey Conga Table Tops & Accessories    27.414\n",
      "9115       Tables     Anderson Hickey Conga Table Tops & Accessories    24.368\n",
      "2510       Tables           Balt Split Level Computer Training Table    19.600\n",
      "4749       Tables           Balt Split Level Computer Training Table     2.210\n",
      "\n",
      "[10177 rows x 3 columns]\n"
     ]
    }
   ],
   "source": [
    "# Group by 'Sub-Category' and then sort within each group by 'Sales' (basically sorting in the decending order)\n",
    "df_sorted = df.sort_values(by=['Sub-Category', 'Sales'], ascending=[True, False])\n",
    "\n",
    "# Add a rank column within each Sub-Category group\n",
    "df_sorted['rank'] = df_sorted.groupby('Sub-Category')['Sales'].rank(method='first', ascending=False)\n",
    "\n",
    "# Find the product whose rank is 2 sub-category-wise by filtering that and then remove that particular product row:\n",
    "filtered_df = df_sorted[df_sorted['rank'] != 2]\n",
    "\n",
    "# Displaying the final result\n",
    "result = filtered_df[['Sub-Category', 'Product Name', 'Sales']]\n",
    "print(result)"
   ]
  },
  {
   "cell_type": "markdown",
   "id": "be67c3d4-6510-4d33-a6c7-c6496c0380fe",
   "metadata": {},
   "source": [
    "### III Query Part 1: Calculating the distribution of region percentages for each category based on the sales of products in that region."
   ]
  },
  {
   "cell_type": "code",
   "execution_count": 124,
   "id": "55fb27eb-8c36-493b-98af-6c441775554f",
   "metadata": {},
   "outputs": [
    {
     "name": "stdout",
     "output_type": "stream",
     "text": [
      "           Category   Region  Region_Percentage\n",
      "0         Furniture  Central          21.800350\n",
      "1         Furniture     East          28.119553\n",
      "2         Furniture    South          15.541442\n",
      "3         Furniture     West          34.538656\n",
      "4   Office Supplies  Central          22.983775\n",
      "5   Office Supplies     East          28.919297\n",
      "6   Office Supplies    South          17.167982\n",
      "7   Office Supplies     West          30.928946\n",
      "8        Technology  Central          20.290234\n",
      "9        Technology     East          31.901442\n",
      "10       Technology    South          17.713192\n",
      "11       Technology     West          30.095132\n"
     ]
    }
   ],
   "source": [
    "# Group by 'Category' and 'Region' to get the total sales for each combination\n",
    "category_region_sales = df.groupby(['Category', 'Region'])['Sales'].sum().reset_index()\n",
    "\n",
    "# Group by 'Category' to get the total sales for each category\n",
    "category_sales_total = df.groupby('Category')['Sales'].sum().reset_index()\n",
    "\n",
    "# And now merging the two dataframes to calculate the percentage\n",
    "merged_df = pd.merge(category_region_sales, category_sales_total, on='Category', suffixes=('_region', '_category'))\n",
    "\n",
    "# Calculating the percentage for each region within a category\n",
    "merged_df['Region_Percentage'] = (merged_df['Sales_region'] / merged_df['Sales_category']) * 100\n",
    "\n",
    "# Displaying the final result\n",
    "result = merged_df[['Category', 'Region', 'Region_Percentage']]\n",
    "print(result)"
   ]
  },
  {
   "cell_type": "markdown",
   "id": "474191a0-0708-4023-941c-a47a2e58fa24",
   "metadata": {},
   "source": [
    "### III Query Part 2: Calculating the distribution of region percentages for each sub-category based on the sales of products in that region."
   ]
  },
  {
   "cell_type": "code",
   "execution_count": 126,
   "id": "99728a18-81c1-42e0-98f3-3a741112faa4",
   "metadata": {},
   "outputs": [
    {
     "name": "stdout",
     "output_type": "stream",
     "text": [
      "   Sub-Category   Region  Region_Percentage\n",
      "0   Accessories  Central          20.286779\n",
      "1   Accessories     East          26.904819\n",
      "2   Accessories    South          16.296273\n",
      "3   Accessories     West          36.512128\n",
      "4    Appliances  Central          21.792199\n",
      "..          ...      ...                ...\n",
      "63     Supplies     West          38.794925\n",
      "64       Tables  Central          18.822679\n",
      "65       Tables     East          19.193401\n",
      "66       Tables    South          21.111505\n",
      "67       Tables     West          40.872415\n",
      "\n",
      "[68 rows x 3 columns]\n"
     ]
    }
   ],
   "source": [
    "# Group by 'Sub-Category' and 'Region' to get the total sales for each combination\n",
    "category_region_sales = df.groupby(['Sub-Category', 'Region'])['Sales'].sum().reset_index()\n",
    "\n",
    "# Group by 'Category' to get the total sales for each Sub-Category\n",
    "sub_category_sales_total = df.groupby('Sub-Category')['Sales'].sum().reset_index()\n",
    "\n",
    "# And now merging the two dataframes to calculate the percentage\n",
    "merged_df = pd.merge(category_region_sales, sub_category_sales_total, on='Sub-Category', suffixes=('_region', '_sub-category'))\n",
    "\n",
    "# Calculating the percentage for each region within a sub-category\n",
    "merged_df['Region_Percentage'] = (merged_df['Sales_region'] / merged_df['Sales_sub-category']) * 100\n",
    "\n",
    "# Displaying the final result\n",
    "result = merged_df[['Sub-Category', 'Region', 'Region_Percentage']]\n",
    "print(result)"
   ]
  }
 ],
 "metadata": {
  "kernelspec": {
   "display_name": "Python 3 (ipykernel)",
   "language": "python",
   "name": "python3"
  },
  "language_info": {
   "codemirror_mode": {
    "name": "ipython",
    "version": 3
   },
   "file_extension": ".py",
   "mimetype": "text/x-python",
   "name": "python",
   "nbconvert_exporter": "python",
   "pygments_lexer": "ipython3",
   "version": "3.12.4"
  }
 },
 "nbformat": 4,
 "nbformat_minor": 5
}
